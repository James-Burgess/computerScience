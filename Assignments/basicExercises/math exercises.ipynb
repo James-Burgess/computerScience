{
 "cells": [
  {
   "cell_type": "code",
   "execution_count": null,
   "metadata": {},
   "outputs": [],
   "source": [
    "print((int(input(\"#\")))//int(input(\"#2?\")))"
   ]
  },
  {
   "cell_type": "code",
   "execution_count": null,
   "metadata": {},
   "outputs": [],
   "source": [
    "fridge = [int(input(\"Fridge measurement %s\" %(x+1))) for x in range(3)]\n",
    "elevator = [int(input(\"Elevator measurement %s?\" %(x+1))) for x in range(3)]\n",
    "\n",
    "import numpy as np\n",
    "print((np.prod(elevator))-(np.prod(fridge)))"
   ]
  },
  {
   "cell_type": "code",
   "execution_count": null,
   "metadata": {},
   "outputs": [],
   "source": [
    "elevator = []\n",
    "for i in range (3):\n",
    "    elevator.append(int(input(\"Elevator measurement?\")))"
   ]
  },
  {
   "cell_type": "code",
   "execution_count": 4,
   "metadata": {},
   "outputs": [
    {
     "name": "stdout",
     "output_type": "stream",
     "text": [
      "how much cash?8000\n",
      "this many fiftys 160\n",
      "this many twentys 1\n"
     ]
    },
    {
     "ename": "NameError",
     "evalue": "name 'tens' is not defined",
     "output_type": "error",
     "traceback": [
      "\u001b[0;31m---------------------------------------------------------------------------\u001b[0m",
      "\u001b[0;31mNameError\u001b[0m                                 Traceback (most recent call last)",
      "\u001b[0;32m<ipython-input-4-336803890be2>\u001b[0m in \u001b[0;36m<module>\u001b[0;34m()\u001b[0m\n\u001b[1;32m     19\u001b[0m \u001b[0mrem\u001b[0m \u001b[0;34m=\u001b[0m \u001b[0mrem\u001b[0m\u001b[0;34m%\u001b[0m\u001b[0;36m10\u001b[0m\u001b[0;34m\u001b[0m\u001b[0m\n\u001b[1;32m     20\u001b[0m \u001b[0;32mif\u001b[0m \u001b[0mrem\u001b[0m \u001b[0;34m==\u001b[0m \u001b[0;36m0\u001b[0m\u001b[0;34m:\u001b[0m\u001b[0;34m\u001b[0m\u001b[0m\n\u001b[0;32m---> 21\u001b[0;31m     \u001b[0mprint\u001b[0m\u001b[0;34m(\u001b[0m\u001b[0;34m\"this many tens %s\"\u001b[0m \u001b[0;34m%\u001b[0m\u001b[0;34m(\u001b[0m\u001b[0mtens\u001b[0m\u001b[0;34m)\u001b[0m\u001b[0;34m)\u001b[0m\u001b[0;34m\u001b[0m\u001b[0m\n\u001b[0m\u001b[1;32m     22\u001b[0m \u001b[0;34m\u001b[0m\u001b[0m\n\u001b[1;32m     23\u001b[0m \u001b[0;32melse\u001b[0m\u001b[0;34m:\u001b[0m\u001b[0;34m\u001b[0m\u001b[0m\n",
      "\u001b[0;31mNameError\u001b[0m: name 'tens' is not defined"
     ]
    }
   ],
   "source": [
    "num = int(input(\"how much cash?\"))\n",
    "\n",
    "fifty = num // 50\n",
    "\n",
    "rem = num % 50\n",
    "if rem == 0:\n",
    "    print(\"this many fiftys %s\" %(fifty))\n",
    "\n",
    "else:\n",
    "    twenty = rem // 20\n",
    "\n",
    "rem = rem%20\n",
    "if rem == 0:\n",
    "    print(\"this many twentys %s\" %(twenty))\n",
    "\n",
    "else:\n",
    "    ten = rem // 10\n",
    "    \n",
    "rem = rem%10\n",
    "if rem == 0:\n",
    "    print(\"this many tens %s\" %(tens))\n",
    "\n",
    "else:\n",
    "    five = rem // 5\n",
    "    \n",
    "rem = rem%5\n",
    "if rem == 0:\n",
    "    print(\"this many 5's %s\" %(five))\n",
    "\n",
    "else:\n",
    "    print(\"sorry no change\")\n"
   ]
  },
  {
   "cell_type": "code",
   "execution_count": null,
   "metadata": {},
   "outputs": [],
   "source": []
  }
 ],
 "metadata": {
  "kernelspec": {
   "display_name": "Python 3",
   "language": "python",
   "name": "python3"
  },
  "language_info": {
   "codemirror_mode": {
    "name": "ipython",
    "version": 3
   },
   "file_extension": ".py",
   "mimetype": "text/x-python",
   "name": "python",
   "nbconvert_exporter": "python",
   "pygments_lexer": "ipython3",
   "version": "3.6.2"
  }
 },
 "nbformat": 4,
 "nbformat_minor": 2
}
