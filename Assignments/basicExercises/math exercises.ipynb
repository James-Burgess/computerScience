{
 "cells": [
  {
   "cell_type": "code",
   "execution_count": null,
   "metadata": {},
   "outputs": [],
   "source": [
    "print((int(input(\"#\")))//int(input(\"#2?\")))"
   ]
  },
  {
   "cell_type": "code",
   "execution_count": null,
   "metadata": {},
   "outputs": [],
   "source": [
    "fridge = [int(input(\"Fridge measurement %s\" %(x+1))) for x in range(3)]\n",
    "elevator = [int(input(\"Elevator measurement %s?\" %(x+1))) for x in range(3)]\n",
    "\n",
    "import numpy as np\n",
    "print((np.prod(elevator))-(np.prod(fridge)))"
   ]
  },
  {
   "cell_type": "code",
   "execution_count": null,
   "metadata": {},
   "outputs": [],
   "source": [
    "elevator = []\n",
    "for i in range (3):\n",
    "    elevator.append(int(input(\"Elevator measurement?\")))"
   ]
  },
  {
   "cell_type": "code",
   "execution_count": null,
   "metadata": {},
   "outputs": [],
   "source": [
    "num = int(input(\"how much cash?\"))\n",
    "\n",
    "fifty = num // 50\n",
    "\n",
    "rem = num % 50\n",
    "if rem == 0:\n",
    "    print(\"this many fiftys %s\" %(fifty))\n",
    "\n",
    "else:\n",
    "    twenty = rem // 20\n",
    "\n",
    "rem = rem%20\n",
    "if rem == 0:\n",
    "    print(\"this many twentys %s\" %(twenty))\n",
    "\n",
    "else:\n",
    "    ten = rem // 10\n",
    "    \n",
    "rem = rem%10\n",
    "if rem == 0:\n",
    "    print(\"this many tens %s\" %(tens))\n",
    "\n",
    "else:\n",
    "    five = rem // 5\n",
    "    \n",
    "rem = rem%5\n",
    "if rem == 0:\n",
    "    print(\"this many 5's %s\" %(five))\n",
    "\n",
    "else:\n",
    "    print(\"sorry no change\")\n"
   ]
  },
  {
   "cell_type": "code",
   "execution_count": 1,
   "metadata": {},
   "outputs": [],
   "source": [
    "def divrem(x,y):\n",
    "    return([(x//y),x%y])\n",
    "def hasrem(x,y):\n",
    "    if x%y != 0:\n",
    "        return True\n",
    "    else:\n",
    "        return False"
   ]
  },
  {
   "cell_type": "code",
   "execution_count": 12,
   "metadata": {},
   "outputs": [
    {
     "name": "stdout",
     "output_type": "stream",
     "text": [
      "#?71\n",
      "[1, 21]\n",
      "xthis many fiftys 1\n",
      "this many twentys 1\n"
     ]
    }
   ],
   "source": [
    "num = int(input(\"#?\"))\n",
    "\n",
    "if hasrem(num,50):\n",
    "    fifty = divrem(num,50)\n",
    "    print(\"xthis many fiftys %s\" %(fifty[0]))\n",
    "    if hasrem((fifty[1]),20):\n",
    "        twenty = divrem((fifty[1]),20)\n",
    "        print(\"this many twentys %s\" %(twenty[0]))\n",
    "else: \n",
    "    print(\"this many fiftys %s\" %(divrem(num,50)[0]))\n",
    "    \n",
    "   "
   ]
  },
  {
   "cell_type": "code",
   "execution_count": null,
   "metadata": {},
   "outputs": [],
   "source": []
  }
 ],
 "metadata": {
  "kernelspec": {
   "display_name": "Python 3",
   "language": "python",
   "name": "python3"
  },
  "language_info": {
   "codemirror_mode": {
    "name": "ipython",
    "version": 3
   },
   "file_extension": ".py",
   "mimetype": "text/x-python",
   "name": "python",
   "nbconvert_exporter": "python",
   "pygments_lexer": "ipython3",
   "version": "3.6.2"
  }
 },
 "nbformat": 4,
 "nbformat_minor": 2
}
