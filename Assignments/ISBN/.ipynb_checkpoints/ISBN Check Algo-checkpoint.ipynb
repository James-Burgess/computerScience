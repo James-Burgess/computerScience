{
 "cells": [
  {
   "cell_type": "markdown",
   "metadata": {},
   "source": [
    "# ISBN Number Assignment\n",
    "\n",
    "## Convert Pseudocode to Python\n",
    "<br>\n",
    "<br>"
   ]
  },
  {
   "cell_type": "markdown",
   "metadata": {},
   "source": [
    "### Pseudocode\n",
    "adding numers to ISBN Array"
   ]
  },
  {
   "cell_type": "code",
   "execution_count": null,
   "metadata": {},
   "outputs": [],
   "source": [
    "  FOR count = 1 TO 13 DO\n",
    "    OUTPUT \"Please enter the next digit of ISBN: \"\n",
    "    INPUT ISBN[count]\n",
    "  ENDFOR"
   ]
  },
  {
   "cell_type": "markdown",
   "metadata": {},
   "source": [
    "Python"
   ]
  },
  {
   "cell_type": "code",
   "execution_count": 4,
   "metadata": {},
   "outputs": [
    {
     "name": "stdout",
     "output_type": "stream",
     "text": [
      "please enter ISBN digit2\n",
      "please enter ISBN digit5\n",
      "please enter ISBN digit6\n",
      "please enter ISBN digit3\n",
      "please enter ISBN digit2\n",
      "please enter ISBN digit5\n",
      "please enter ISBN digit5\n",
      "please enter ISBN digit6\n",
      "please enter ISBN digit5\n",
      "please enter ISBN digit2\n",
      "please enter ISBN digit2\n",
      "please enter ISBN digit3\n",
      "please enter ISBN digit2\n",
      "[2, 5, 6, 3, 2, 5, 5, 6, 5, 2, 2, 3, 2]\n"
     ]
    }
   ],
   "source": [
    "#add 13 numbers to an array\n",
    "isbn = []\n",
    "\n",
    "for count in range (13):\n",
    "    isbn.append(int(input(\"please enter ISBN digit\")))\n",
    "\n",
    "print(isbn)"
   ]
  },
  {
   "cell_type": "code",
   "execution_count": 5,
   "metadata": {},
   "outputs": [],
   "source": [
    "isbn_test = [9, 7, 8, 0, 0, 9, 9, 4, 1, 0, 6, 7, 6]\n",
    "isbn_test2 = [ 9, 7, 8, 1, 8, 5, 7, 0, 2, 8, 8, 9, 4]"
   ]
  },
  {
   "cell_type": "markdown",
   "metadata": {},
   "source": [
    "### Pseduocode\n",
    "declare vars calc digit and count"
   ]
  },
  {
   "cell_type": "code",
   "execution_count": null,
   "metadata": {},
   "outputs": [],
   "source": [
    "calculatedDigit = 0\n",
    "count = 1"
   ]
  },
  {
   "cell_type": "markdown",
   "metadata": {},
   "source": [
    "Python"
   ]
  },
  {
   "cell_type": "code",
   "execution_count": 6,
   "metadata": {},
   "outputs": [],
   "source": [
    "calc_digit = 0\n",
    "count = 1"
   ]
  },
  {
   "cell_type": "markdown",
   "metadata": {},
   "source": [
    "### Pseduocode\n",
    "while loop that adds each element in isbn to calc digit then adds the same number(x3) to the bunch "
   ]
  },
  {
   "cell_type": "code",
   "execution_count": null,
   "metadata": {},
   "outputs": [],
   "source": [
    "WHILE count < 13 DO\n",
    "    calculatedDigit = calculatedDigit + ISBN[count]\n",
    "    count = count + 1\n",
    "    calculatedDigit = calculatedDigit + ISBN[count] * 3\n",
    "    count = count + 1\n",
    "ENDWHILE"
   ]
  },
  {
   "cell_type": "markdown",
   "metadata": {},
   "source": [
    "Python"
   ]
  },
  {
   "cell_type": "code",
   "execution_count": 19,
   "metadata": {},
   "outputs": [
    {
     "name": "stdout",
     "output_type": "stream",
     "text": [
      "3\n"
     ]
    }
   ],
   "source": [
    "while count < 13:\n",
    "    calc_digit += isbn_test2[count]\n",
    "    count += 1\n",
    "    calc_digit += isbn_test2[count] * 3\n",
    "    count += 1\n",
    "print (calc_digit)"
   ]
  },
  {
   "cell_type": "markdown",
   "metadata": {},
   "source": [
    "### Pseduocode\n",
    "keep removing 10 until its not greater than 10"
   ]
  },
  {
   "cell_type": "code",
   "execution_count": null,
   "metadata": {},
   "outputs": [],
   "source": [
    "WHILE calculatedDigit >= 10 DO\n",
    "    calculatedDigit = calculatedDigit  - 10\n",
    "ENDWHILE"
   ]
  },
  {
   "cell_type": "code",
   "execution_count": 27,
   "metadata": {},
   "outputs": [
    {
     "name": "stdout",
     "output_type": "stream",
     "text": [
      "7\n"
     ]
    }
   ],
   "source": [
    "while calc_digit >= 10:\n",
    "    calc_digit -= 10\n",
    "print(calc_digit)"
   ]
  },
  {
   "cell_type": "markdown",
   "metadata": {},
   "source": [
    "### Pseduocode\n",
    "find the 10minus"
   ]
  },
  {
   "cell_type": "code",
   "execution_count": null,
   "metadata": {},
   "outputs": [],
   "source": [
    "calculatedDigit = 10 - calculatedDigit "
   ]
  },
  {
   "cell_type": "markdown",
   "metadata": {},
   "source": [
    "Python"
   ]
  },
  {
   "cell_type": "code",
   "execution_count": 22,
   "metadata": {},
   "outputs": [
    {
     "name": "stdout",
     "output_type": "stream",
     "text": [
      "7\n"
     ]
    }
   ],
   "source": [
    "calc_digit = 10 - calc_digit\n",
    "print(calc_digit)"
   ]
  },
  {
   "cell_type": "markdown",
   "metadata": {},
   "source": [
    "### Pseduocode\n",
    "switch to 0 if 10"
   ]
  },
  {
   "cell_type": "code",
   "execution_count": null,
   "metadata": {},
   "outputs": [],
   "source": [
    "IF calculated Digit == 10 \n",
    "    THEN calculatedDigit = 0\n",
    "ENDIF"
   ]
  },
  {
   "cell_type": "markdown",
   "metadata": {},
   "source": [
    "Python"
   ]
  },
  {
   "cell_type": "code",
   "execution_count": 23,
   "metadata": {},
   "outputs": [
    {
     "name": "stdout",
     "output_type": "stream",
     "text": [
      "7\n"
     ]
    }
   ],
   "source": [
    "if calc_digit == 10:\n",
    "    calc_digit = 0\n",
    "print(calc_digit)"
   ]
  },
  {
   "cell_type": "markdown",
   "metadata": {},
   "source": [
    "### Pseduocode\n",
    "if calc_digit == last one in list, winrar"
   ]
  },
  {
   "cell_type": "code",
   "execution_count": null,
   "metadata": {},
   "outputs": [],
   "source": [
    "IF calculatedDigit = ISBN[13]\n",
    "    THEN OUTPUT \"Valid ISBN\"\n",
    "    ELSE OUTPUT \"Invalid ISBN\"\n",
    "ENDIF"
   ]
  },
  {
   "cell_type": "code",
   "execution_count": 28,
   "metadata": {},
   "outputs": [
    {
     "name": "stdout",
     "output_type": "stream",
     "text": [
      "looser\n"
     ]
    }
   ],
   "source": [
    "if calc_digit == isbn_test2[12]:\n",
    "    print(\"winrar\")\n",
    "else: \n",
    "    print (\"looser\")"
   ]
  }
 ],
 "metadata": {
  "kernelspec": {
   "display_name": "Python 3",
   "language": "python",
   "name": "python3"
  },
  "language_info": {
   "codemirror_mode": {
    "name": "ipython",
    "version": 3
   },
   "file_extension": ".py",
   "mimetype": "text/x-python",
   "name": "python",
   "nbconvert_exporter": "python",
   "pygments_lexer": "ipython3",
   "version": "3.6.2"
  }
 },
 "nbformat": 4,
 "nbformat_minor": 2
}
